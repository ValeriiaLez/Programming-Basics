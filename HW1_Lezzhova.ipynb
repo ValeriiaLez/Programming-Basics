{
 "cells": [
  {
   "cell_type": "markdown",
   "metadata": {},
   "source": [
    "***1. Datatypes***"
   ]
  },
  {
   "cell_type": "markdown",
   "metadata": {},
   "source": [
    "Set Types — set, frozenset\n",
    "\n",
    "class set([iterable]); class frozenset([iterable])\n",
    "\n",
    "Return a new set or frozenset object whose elements are taken from iterable.\n",
    "\n",
    "+ len(s) (Return the number of elements in set s)\n",
    "\n",
    "- x in s (Test x for membership in s)\n",
    "\n",
    "+ copy() (Return a shallow copy of the set)"
   ]
  },
  {
   "cell_type": "markdown",
   "metadata": {},
   "source": [
    "***2.Comparisons***"
   ]
  },
  {
   "cell_type": "markdown",
   "metadata": {},
   "source": [
    "+ =="
   ]
  },
  {
   "cell_type": "code",
   "execution_count": 3,
   "metadata": {},
   "outputs": [
    {
     "name": "stdout",
     "output_type": "stream",
     "text": [
      "False\n",
      "True\n"
     ]
    }
   ],
   "source": [
    "print('cat'=='dog')\n",
    "print('cat'=='cat')"
   ]
  },
  {
   "cell_type": "markdown",
   "metadata": {},
   "source": [
    "Operator == compares 2 strings. It returns True if there is an exact match or False if strings do not match."
   ]
  },
  {
   "cell_type": "markdown",
   "metadata": {},
   "source": [
    "+ !="
   ]
  },
  {
   "cell_type": "code",
   "execution_count": 4,
   "metadata": {},
   "outputs": [
    {
     "name": "stdout",
     "output_type": "stream",
     "text": [
      "True\n",
      "False\n"
     ]
    }
   ],
   "source": [
    "print('cat'!='dog')\n",
    "print('cat'!='cat')"
   ]
  },
  {
   "cell_type": "markdown",
   "metadata": {},
   "source": [
    "Operator != returns True if there is no match and otherwise returns False. "
   ]
  },
  {
   "cell_type": "markdown",
   "metadata": {},
   "source": [
    "+ '>'"
   ]
  },
  {
   "cell_type": "code",
   "execution_count": 9,
   "metadata": {},
   "outputs": [
    {
     "name": "stdout",
     "output_type": "stream",
     "text": [
      "False\n"
     ]
    }
   ],
   "source": [
    "print('cat'>'dog')"
   ]
  },
  {
   "cell_type": "markdown",
   "metadata": {},
   "source": [
    "Operator > returnes False if first letter of the first string alphabetically is before first letter of the second string. Otherwise returns True."
   ]
  },
  {
   "cell_type": "markdown",
   "metadata": {},
   "source": [
    "+ '>='"
   ]
  },
  {
   "cell_type": "code",
   "execution_count": 16,
   "metadata": {},
   "outputs": [
    {
     "name": "stdout",
     "output_type": "stream",
     "text": [
      "False\n",
      "True\n"
     ]
    }
   ],
   "source": [
    "print('cat'>='dog')\n",
    "print('cat'>='cat')"
   ]
  },
  {
   "cell_type": "markdown",
   "metadata": {},
   "source": [
    "Operator >= does the same as operator >. It also marks true if strings are the same."
   ]
  },
  {
   "cell_type": "markdown",
   "metadata": {},
   "source": [
    "+ <"
   ]
  },
  {
   "cell_type": "code",
   "execution_count": 18,
   "metadata": {},
   "outputs": [
    {
     "name": "stdout",
     "output_type": "stream",
     "text": [
      "True\n"
     ]
    }
   ],
   "source": [
    "print('cat'<'dog')"
   ]
  },
  {
   "cell_type": "markdown",
   "metadata": {},
   "source": [
    "Operator < returnes True if first letter of the first string alphabetically is before first letter of the second string. Otherwise returns False."
   ]
  },
  {
   "cell_type": "markdown",
   "metadata": {},
   "source": [
    "+ <="
   ]
  },
  {
   "cell_type": "code",
   "execution_count": 20,
   "metadata": {},
   "outputs": [
    {
     "name": "stdout",
     "output_type": "stream",
     "text": [
      "True\n",
      "True\n"
     ]
    }
   ],
   "source": [
    "print('cat'<='dog')\n",
    "print('cat'<='cat')"
   ]
  },
  {
   "cell_type": "markdown",
   "metadata": {},
   "source": [
    "Operator <= does the same as operator <. It also marks true if strings are the same."
   ]
  },
  {
   "cell_type": "markdown",
   "metadata": {},
   "source": [
    "***3.Semitic morphology***"
   ]
  },
  {
   "cell_type": "code",
   "execution_count": 4,
   "metadata": {},
   "outputs": [
    {
     "name": "stdout",
     "output_type": "stream",
     "text": [
      "kitab \n",
      "kataba\n",
      "kaataba\n"
     ]
    }
   ],
   "source": [
    "root = 'k{0}t{1}b{2}'\n",
    "book = root.format('i', 'a', ' ')\n",
    "wrote = root.format('a','a','a')\n",
    "corresponded = root.format ('aa', 'a', 'a')\n",
    "\n",
    "print(book)\n",
    "print(wrote)\n",
    "print (corresponded)"
   ]
  },
  {
   "cell_type": "markdown",
   "metadata": {},
   "source": [
    "We can create variable with necessary root and add vowels to create the meaning we need."
   ]
  },
  {
   "cell_type": "markdown",
   "metadata": {},
   "source": [
    "***4.Pragmatics***"
   ]
  },
  {
   "cell_type": "code",
   "execution_count": 53,
   "metadata": {},
   "outputs": [
    {
     "name": "stdout",
     "output_type": "stream",
     "text": [
      "The bartender... absolutely horrible... we waited 10 min before we even got her attention...and then we had to wait 45 – FORTY FIVE! – minutes for our entrees... stalk the waitress toget the cheque... she didn’t make eye contact or even break her stride to wait for a response ...\n",
      "the bartender... absolutely horrible... we waited 10 min before we even got her attention...and then we had to wait 45 – forty five! – minutes for our entrees... stalk the waitress toget the cheque... she didn’t make eye contact or even break her stride to wait for a response ...\n"
     ]
    }
   ],
   "source": [
    "x = 'The bartender... absolutely horrible... we waited 10 min before we even got her attention...and then we had to wait 45 – FORTY FIVE! – minutes for our entrees... stalk the waitress toget the cheque... she didn’t make eye contact or even break her stride to wait for a response ...'\n",
    "x2 = x.lower()\n",
    "print (x)\n",
    "print (x2)"
   ]
  },
  {
   "cell_type": "markdown",
   "metadata": {},
   "source": [
    "When we apply function lower() to a string all string letters become lowercase. \n",
    "\n",
    "When we apply lower() to string x 'forty five' becomes lowercase and we lose emotional component. This function is useful if our goal is statictical analysis, e.g. if we want to find lexical diversity(otherwise python will count FORTY and forty as two different words). But it will be harmful if our goal is to look at emotional prosody in written data."
   ]
  },
  {
   "cell_type": "markdown",
   "metadata": {},
   "source": [
    "***5. Funky Dictionary***"
   ]
  },
  {
   "cell_type": "code",
   "execution_count": 82,
   "metadata": {},
   "outputs": [
    {
     "name": "stdout",
     "output_type": "stream",
     "text": [
      "10\n",
      "True\n",
      "{'вписка': 'party', 'гамать': 'play', 'кун': 'boy', 'оффнуться': 'finish', 'пусичка': 'cutie', 'тян': 'girl', 'агрить': 'irritate', 'ачивка': 'achievement', 'лойс': 'like'}\n",
      "{'вписка': 'party', 'гамать': 'play', 'кун': 'boy', 'оффнуться': 'finish', 'пусичка': 'cutie', 'тян': 'girl', 'агрить': 'irritate', 'ачивка': 'achievement', 'лойс': 'like', 'видосы': 'videos'}\n",
      "['вписка', 'гамать', 'кун', 'оффнуться', 'пусичка', 'тян', 'агрить', 'ачивка', 'лойс', 'видосы']\n",
      "['party', 'play', 'boy', 'finish', 'cutie', 'girl', 'irritate', 'achievement', 'like', 'videos']\n",
      "[('вписка', 'party'), ('гамать', 'play'), ('кун', 'boy'), ('оффнуться', 'finish'), ('пусичка', 'cutie'), ('тян', 'girl'), ('агрить', 'irritate'), ('ачивка', 'achievement'), ('лойс', 'like'), ('видосы', 'videos')]\n"
     ]
    }
   ],
   "source": [
    "d = {'видосы':'videos', 'вписка':'party', 'гамать':'play', 'кун':'boy', 'оффнуться':'finish', 'пусичка':'cutie', 'тян':'girl', 'агрить':'irritate', 'ачивка':'achievement', 'лойс':'like'}\n",
    "\n",
    "print(len(d)) #count the number of pairs\n",
    "\n",
    "print('видосы' in d) #check whether key 'видосы' is in the dictionary or not\n",
    "\n",
    "del(d['видосы']) #delete a key-value pair\n",
    "print (d)\n",
    "\n",
    "d['видосы'] = 'videos' #add an entry\n",
    "print(d)\n",
    "\n",
    "print(list(d.keys())) #list of keys\n",
    "\n",
    "print(list(d.values())) #list of values\n",
    "\n",
    "print(list(d.items())) #list of pairs\n"
   ]
  },
  {
   "cell_type": "code",
   "execution_count": null,
   "metadata": {},
   "outputs": [],
   "source": []
  }
 ],
 "metadata": {
  "kernelspec": {
   "display_name": "Python 3",
   "language": "python",
   "name": "python3"
  },
  "language_info": {
   "codemirror_mode": {
    "name": "ipython",
    "version": 3
   },
   "file_extension": ".py",
   "mimetype": "text/x-python",
   "name": "python",
   "nbconvert_exporter": "python",
   "pygments_lexer": "ipython3",
   "version": "3.7.3"
  }
 },
 "nbformat": 4,
 "nbformat_minor": 2
}
