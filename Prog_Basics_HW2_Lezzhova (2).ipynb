{
 "cells": [
  {
   "cell_type": "markdown",
   "metadata": {},
   "source": [
    "***Programming Basics***\n"
   ]
  },
  {
   "cell_type": "markdown",
   "metadata": {},
   "source": [
    "Valeriia Lezzhova\n"
   ]
  },
  {
   "cell_type": "markdown",
   "metadata": {},
   "source": [
    "Homework 2 "
   ]
  },
  {
   "cell_type": "markdown",
   "metadata": {},
   "source": [
    "***2. Proper title case function***"
   ]
  },
  {
   "cell_type": "code",
   "execution_count": 1,
   "metadata": {},
   "outputs": [
    {
     "name": "stdout",
     "output_type": "stream",
     "text": [
      "An Ant on a Table \n",
      "The Cat in the Hat \n"
     ]
    }
   ],
   "source": [
    "def proper_title_case(sentence):\n",
    "    exceptions = ['the', 'in', 'on', 'a', 'an', 'at', 'of', 'about', 'near', 'about', 'above']\n",
    "    low_s = sentence.lower()\n",
    "    tokens = low_s.split()\n",
    "    \n",
    "    uppercased_sentence = []\n",
    "    \n",
    "    for word in tokens:\n",
    "            \n",
    "        if word not in exceptions:\n",
    "            uppercased_sentence += word.title() + ' '\n",
    "        \n",
    "        else:\n",
    "            uppercased_sentence += word + ' '\n",
    "        final_sentence = ''.join(uppercased_sentence)\n",
    "            \n",
    "\n",
    "    return final_sentence[0].upper()+final_sentence[1:]\n",
    "\n",
    "print(proper_title_case('An ant on a table'))#to test your function\n",
    "print(proper_title_case('The Cat in The Hat'))#to test your function"
   ]
  },
  {
   "cell_type": "markdown",
   "metadata": {},
   "source": [
    "***5.2. The mean height***"
   ]
  },
  {
   "cell_type": "code",
   "execution_count": 3,
   "metadata": {},
   "outputs": [
    {
     "name": "stdout",
     "output_type": "stream",
     "text": [
      "2.3666666666666667\n"
     ]
    }
   ],
   "source": [
    "def mean(vals):\n",
    "    return sum(vals)/ len(vals)\n",
    "\n",
    "print(mean([1,5,1.1]))"
   ]
  },
  {
   "cell_type": "code",
   "execution_count": 4,
   "metadata": {},
   "outputs": [
    {
     "name": "stdout",
     "output_type": "stream",
     "text": [
      "68.9003206602722\n"
     ]
    }
   ],
   "source": [
    "myspreadsheet = [[1, 74.37000326528938, 'Psychologist'], [2, 67.49686206937491, 'Psychologist'], [3, 74.92356434760966, 'Psychologist'], [4, 64.62372198999978, 'Psychologist'], [5, 67.76787900026083, 'Linguist'], [6, 61.50397707923559, 'Psychologist'], [7, 62.73680961908566, 'Psychologist'], [8, 68.60803984763902, 'Linguist'], [9, 70.16090500135535, 'Psychologist'], [10, 76.81144438287173, 'Linguist']]\n",
    "\n",
    "def mean_height(data):\n",
    "    \n",
    "    l = []\n",
    "    \n",
    "    for i in data:\n",
    "        l.append(i[1])\n",
    "    \n",
    "    m = mean (l)\n",
    "        \n",
    "    return m\n",
    "        \n",
    "print(mean_height(myspreadsheet))"
   ]
  },
  {
   "cell_type": "code",
   "execution_count": null,
   "metadata": {},
   "outputs": [],
   "source": []
  }
 ],
 "metadata": {
  "kernelspec": {
   "display_name": "Python 3",
   "language": "python",
   "name": "python3"
  },
  "language_info": {
   "codemirror_mode": {
    "name": "ipython",
    "version": 3
   },
   "file_extension": ".py",
   "mimetype": "text/x-python",
   "name": "python",
   "nbconvert_exporter": "python",
   "pygments_lexer": "ipython3",
   "version": "3.7.3"
  }
 },
 "nbformat": 4,
 "nbformat_minor": 2
}
